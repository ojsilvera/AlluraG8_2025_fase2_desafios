{
 "cells": [
  {
   "cell_type": "markdown",
   "id": "e6903b1d",
   "metadata": {},
   "source": [
    "Listado de ejercicios funciones en python"
   ]
  }
 ],
 "metadata": {
  "language_info": {
   "name": "python"
  }
 },
 "nbformat": 4,
 "nbformat_minor": 5
}
