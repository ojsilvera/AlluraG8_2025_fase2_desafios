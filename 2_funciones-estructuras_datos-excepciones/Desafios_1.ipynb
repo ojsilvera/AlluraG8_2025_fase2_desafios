{
 "cells": [
  {
   "cell_type": "markdown",
   "id": "e6903b1d",
   "metadata": {},
   "source": [
    "Listado de ejercicios funciones en python"
   ]
  },
  {
   "cell_type": "markdown",
   "id": "7a88d580",
   "metadata": {},
   "source": [
    "1 - Escribe un código para instalar la versión 3.7.1 de la biblioteca matplotlib."
   ]
  },
  {
   "cell_type": "markdown",
   "id": "72f2961e",
   "metadata": {},
   "source": [
    "2 - Escribe un código para importar la biblioteca numpy con el alias np."
   ]
  },
  {
   "cell_type": "markdown",
   "id": "3353181f",
   "metadata": {},
   "source": [
    "3 - Crea un programa que lea la siguiente lista de números y elija uno al azar.\n",
    "\n",
    "    lista = [8, 12, 54, 23, 43, 1, 90, 87, 105, 77]"
   ]
  },
  {
   "cell_type": "markdown",
   "id": "741eee92",
   "metadata": {},
   "source": [
    "4 - Crea un programa que genere aleatoriamente un número entero menor que 100."
   ]
  },
  {
   "cell_type": "markdown",
   "id": "e444bcaf",
   "metadata": {},
   "source": [
    "5 - Crea un programa que solicite a la persona usuaria ingresar dos números enteros y calcule la potencia del primer número elevado al segundo."
   ]
  },
  {
   "cell_type": "markdown",
   "id": "687a4da0",
   "metadata": {},
   "source": [
    "6 - Se debe escribir un programa para sortear a un seguidor de una red social para ganar un premio. La lista de participantes está numerada y debemos elegir aleatoriamente un número según la cantidad de participantes. Pide a la persona usuaria que proporcione el número de participantes del sorteo y devuelve el número sorteado."
   ]
  },
  {
   "cell_type": "markdown",
   "id": "a473cf84",
   "metadata": {},
   "source": [
    "7 - Has recibido una solicitud para generar números de token para acceder a la aplicación de una empresa. El token debe ser par y variar de 1000 a 9998. Escribe un código que solicite el nombre de la persona usuaria y muestre un mensaje junto a este token generado aleatoriamente.\n",
    "\n",
    "    print(f\"Hola, {nombre_usuario}, tu token de acceso es {token_generado} ¡Bienvenido/a!\")"
   ]
  },
  {
   "cell_type": "markdown",
   "id": "d968fc5d",
   "metadata": {},
   "source": []
  },
  {
   "cell_type": "markdown",
   "id": "9ed7e943",
   "metadata": {},
   "source": []
  },
  {
   "cell_type": "markdown",
   "id": "8d26393a",
   "metadata": {},
   "source": []
  }
 ],
 "metadata": {
  "language_info": {
   "name": "python"
  }
 },
 "nbformat": 4,
 "nbformat_minor": 5
}
