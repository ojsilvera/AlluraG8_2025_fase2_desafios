{
 "cells": [
  {
   "cell_type": "markdown",
   "id": "67234e7e",
   "metadata": {},
   "source": [
    "Taller 2 - aprendiendo python"
   ]
  },
  {
   "cell_type": "markdown",
   "id": "ab6e0a0c",
   "metadata": {},
   "source": [
    "1 - Crea un programa que solicite al usuario que escriba su nombre y luego imprima \"Hola, [nombre].\""
   ]
  },
  {
   "cell_type": "code",
   "execution_count": 1,
   "id": "cc50a8a8",
   "metadata": {},
   "outputs": [
    {
     "name": "stdout",
     "output_type": "stream",
     "text": [
      "Hola Oscar\n"
     ]
    }
   ],
   "source": [
    "nombre = input('¿Cuál es tu nombre?')\n",
    "print('Hola', nombre)"
   ]
  },
  {
   "cell_type": "markdown",
   "id": "28b07ee7",
   "metadata": {},
   "source": [
    "2 - Crea un programa que solicite al usuario que escriba su nombre y edad, y luego imprima \"Hola, [nombre], tienes [edad] años.\""
   ]
  },
  {
   "cell_type": "code",
   "execution_count": 3,
   "id": "5390483b",
   "metadata": {},
   "outputs": [
    {
     "name": "stdout",
     "output_type": "stream",
     "text": [
      "Tu nombre esOscar y tu edad es 42\n"
     ]
    }
   ],
   "source": [
    "nombre = input('¿Cuál es tu nombre?')\n",
    "edad = input('Cual es tu edad?')\n",
    "print(f\"Tu nombre es{nombre} y tu edad es {edad}\")"
   ]
  },
  {
   "cell_type": "markdown",
   "id": "32b5917c",
   "metadata": {},
   "source": [
    "3 - Crea un programa que solicite al usuario que escriba su nombre, edad y altura en metros, y luego imprima \"Hola, [nombre], tienes [edad] años y mides [altura] metros.\""
   ]
  },
  {
   "cell_type": "code",
   "execution_count": 5,
   "id": "2e40580d",
   "metadata": {},
   "outputs": [
    {
     "name": "stdout",
     "output_type": "stream",
     "text": [
      "Hola Oscar, tienes 42, y mides 1.85 metros\n"
     ]
    }
   ],
   "source": [
    "nombre = input('¿Cuál es tu nombre?')\n",
    "edad = input('Cual es tu edad?')\n",
    "altura = input('Cual es tu altura en metros?')\n",
    "print(f'Hola {nombre}, tienes {edad}, y mides {altura} metros')"
   ]
  },
  {
   "cell_type": "markdown",
   "id": "b0c1cfc3",
   "metadata": {},
   "source": [
    "4 - Crea un programa que solicite dos valores numéricos al usuario y luego imprima la suma de ambos valores."
   ]
  },
  {
   "cell_type": "code",
   "execution_count": 7,
   "id": "a8d2e815",
   "metadata": {},
   "outputs": [
    {
     "name": "stdout",
     "output_type": "stream",
     "text": [
      "El primer valor es 5, el segundo valor es 2\n",
      "La suma de los tres valores es 7\n"
     ]
    }
   ],
   "source": [
    "valor1 = int(input('¿Cuál es el primer valor?'))\n",
    "valor2 = int(input('¿Cuál es el segundo valor?'))\n",
    "print(f'El primer valor es {valor1}, el segundo valor es {valor2}')\n",
    "print(f'La suma de los tres valores es {valor1 + valor2}')"
   ]
  },
  {
   "cell_type": "markdown",
   "id": "4be8d9c5",
   "metadata": {},
   "source": [
    "5 - Crea un programa que solicite tres valores numéricos al usuario y luego imprima la suma de los tres valores."
   ]
  },
  {
   "cell_type": "code",
   "execution_count": 8,
   "id": "808a9b79",
   "metadata": {},
   "outputs": [
    {
     "name": "stdout",
     "output_type": "stream",
     "text": [
      "El primer valor es 5, el segundo valor es 3, y el tercer valor es 2\n",
      "La suma de los tres valores es 10\n"
     ]
    }
   ],
   "source": [
    "valor1 = int(input('¿Cuál es el primer valor?'))\n",
    "valor2 = int(input('¿Cuál es el segundo valor?'))\n",
    "valor3 = int(input('¿Cuál es el tercer valor?'))\n",
    "print(f'El primer valor es {valor1}, el segundo valor es {valor2}, y el tercer valor es {valor3}')\n",
    "print(f'La suma de los tres valores es {valor1 + valor2 + valor3}')"
   ]
  },
  {
   "cell_type": "markdown",
   "id": "3c6e3598",
   "metadata": {},
   "source": [
    "6 - Crea un programa que solicite dos valores numéricos al usuario y luego imprima la resta del primero menos el segundo valor."
   ]
  },
  {
   "cell_type": "code",
   "execution_count": 11,
   "id": "02351406",
   "metadata": {},
   "outputs": [
    {
     "name": "stdout",
     "output_type": "stream",
     "text": [
      "El primer valor es 5, el segundo valor es 3\n",
      "La resta de los dos valores es 2\n"
     ]
    }
   ],
   "source": [
    "valor1 = int(input('¿Cuál es el primer valor?'))\n",
    "valor2 = int(input('¿Cuál es el segundo valor?'))\n",
    "print(f'El primer valor es {valor1}, el segundo valor es {valor2}')\n",
    "print(f'La resta de los dos valores es {valor1 - valor2}')"
   ]
  },
  {
   "cell_type": "markdown",
   "id": "29fa7331",
   "metadata": {},
   "source": [
    "7 - Crea un programa que solicite dos valores numéricos al usuario y luego imprima la multiplicación de los dos valores."
   ]
  },
  {
   "cell_type": "code",
   "execution_count": 12,
   "id": "4c0e9b21",
   "metadata": {},
   "outputs": [
    {
     "name": "stdout",
     "output_type": "stream",
     "text": [
      "El primer valor es 5, el segundo valor es 6\n",
      "La resta de los dos valores es 30\n"
     ]
    }
   ],
   "source": [
    "valor1 = int(input('¿Cuál es el primer valor?'))\n",
    "valor2 = int(input('¿Cuál es el segundo valor?'))\n",
    "print(f'El primer valor es {valor1}, el segundo valor es {valor2}')\n",
    "print(f'La resta de los dos valores es {valor1 * valor2}')"
   ]
  },
  {
   "cell_type": "markdown",
   "id": "4da126c3",
   "metadata": {},
   "source": [
    "8 - Crea un programa que solicite dos valores numéricos, un numerador y un denominador, y realice la división entre los dos valores. Asegúrate de que el valor del denominador no sea igual a 0."
   ]
  },
  {
   "cell_type": "code",
   "execution_count": 13,
   "id": "547a69aa",
   "metadata": {},
   "outputs": [
    {
     "name": "stdout",
     "output_type": "stream",
     "text": [
      "El numerador es: 10, el denominador es: 2\n",
      "La divicion de los dos valores es 5.0\n"
     ]
    }
   ],
   "source": [
    "numerador = int(input('Digita el numerador'))\n",
    "denominador = int(input('digita el denominador, no puede ser 0(Cero)'))\n",
    "print(f'El numerador es: {numerador}, el denominador es: {denominador}')\n",
    "print(f'La division de los dos valores es {numerador / denominador}')"
   ]
  },
  {
   "cell_type": "markdown",
   "id": "6eef39db",
   "metadata": {},
   "source": [
    "9 - Crea un programa que solicite dos valores numéricos, un operador y una potencia, y realice la exponenciación entre estos dos valores."
   ]
  },
  {
   "cell_type": "code",
   "execution_count": 14,
   "id": "0d3060b6",
   "metadata": {},
   "outputs": [
    {
     "name": "stdout",
     "output_type": "stream",
     "text": [
      "El numero es: 2, la potencia es: 2\n",
      "La exponienciacion valores es 4\n"
     ]
    }
   ],
   "source": [
    "base = int(input('Digita un numero'))\n",
    "exponente = int(input('digita el exponente'))\n",
    "print(f'El numero es: {base}, la potencia es: {exponente}')\n",
    "print(f'La exponienciacion valores es {base ** exponente}')"
   ]
  },
  {
   "cell_type": "markdown",
   "id": "719be9c6",
   "metadata": {},
   "source": [
    "10 - Crea un programa que solicite dos valores numéricos, un numerador y un denominador, y realice la división entera entre los dos valores. Asegúrate de que el valor del denominador no sea igual a 0."
   ]
  },
  {
   "cell_type": "code",
   "execution_count": 39,
   "id": "4ce86079",
   "metadata": {},
   "outputs": [
    {
     "name": "stdout",
     "output_type": "stream",
     "text": [
      "El numerador es: 5, el denominador es: 4\n",
      "La division de los dos valores es 1\n"
     ]
    }
   ],
   "source": [
    "numerador = int(input('Digita el numerador'))\n",
    "denominador = int(input('digita el denominador, no puede ser 0(Cero)'))\n",
    "print(f'El numerador es: {numerador}, el denominador es: {denominador}')\n",
    "print(f'La division de los dos valores es {numerador // denominador}')"
   ]
  },
  {
   "cell_type": "markdown",
   "id": "b4c5250a",
   "metadata": {},
   "source": [
    "11 - Crea un programa que solicite dos valores numéricos, un numerador y un denominador, y devuelva el resto de la división entre los dos valores. Asegúrate de que el valor del denominador no sea igual a 0."
   ]
  },
  {
   "cell_type": "code",
   "execution_count": null,
   "id": "ee83fb4e",
   "metadata": {},
   "outputs": [
    {
     "name": "stdout",
     "output_type": "stream",
     "text": [
      "El numerador es: 5, el denominador es: 4\n",
      "El residuo de la division de los dos valores es 1.0\n"
     ]
    }
   ],
   "source": [
    "numerador = int(input('Digita el numerador'))\n",
    "denominador = int(input('digita el denominador, no puede ser 0(Cero)'))\n",
    "print(f'El numerador es: {numerador}, el denominador es: {denominador}')\n",
    "print(f'El residuo de la division de los dos valores es {numerador % denominador}')"
   ]
  },
  {
   "cell_type": "markdown",
   "id": "086958b2",
   "metadata": {},
   "source": [
    "12 - Crea un código que solicite las 3 notas de un estudiante e imprima el promedio de las notas."
   ]
  },
  {
   "cell_type": "code",
   "execution_count": 22,
   "id": "77624da4",
   "metadata": {},
   "outputs": [
    {
     "name": "stdout",
     "output_type": "stream",
     "text": [
      "La primera nota es 9.5, la segunda nota es 8.0, y la tercera nota es 7.5\n",
      "el promedio de las notas es: 8.333333333333334\n"
     ]
    }
   ],
   "source": [
    "not1 = float(input('¿Cuál es la primera nota?'))\n",
    "not2 = float(input('¿Cuál es la segunda nota?'))\n",
    "not3 = float(input('¿Cuál es la tercera nota?'))\n",
    "print(f'La primera nota es {not1}, la segunda nota es {not2}, y la tercera nota es {not3}')\n",
    "print(f'el promedio de las notas es: {(not1 + not2 + not3)/3}')"
   ]
  },
  {
   "cell_type": "markdown",
   "id": "996f7304",
   "metadata": {},
   "source": [
    "13 - Crea un código que calcule e imprima el promedio ponderado de los números 5, 12, 20 y 15 con pesos respectivamente iguales a 1, 2, 3 y 4."
   ]
  },
  {
   "cell_type": "markdown",
   "id": "f8cbef2b",
   "metadata": {},
   "source": [
    "¿Cómo calcular el promedio ponderado?\n",
    "Para calcular el promedio ponderado, es necesario tener disponibles los valores y sus correspondientes pesos. Si quieres calcular el promedio ponderado, lo más cómodo es, por supuesto, usar nuestra calculadora con peso. Para un cálculo manual, procede de la siguiente manera:\n",
    "\n",
    "1. Asegúrese de tener disponibles los valores y sus respectivos pesos.\n",
    "2. Multiplique cada valor por su peso correspondiente..\n",
    "3. Sume todos los productos resultantes.\n",
    "4. Sume todos los pesos.\n",
    "5. Divida el resultado de la suma de los productos por la suma de los pesos.\n",
    "\n",
    "#### Fórmula para calcular el promedio ponderado\n",
    "\n",
    "Promedio ponderado = (valor1 * peso1 + valor2 * peso2 + ... + valorN * pesoN) / (peso1 + peso2 + ... + pesoN). Donde valor1, valor2 hasta valorN son los valores individuales, peso1, peso2 hasta pesoN son los pesos correspondientes y N es el número de valores y pesos. Con esta fórmula, puedes calcular el promedio ponderado que tiene en cuenta los pesos de los valores individuales."
   ]
  },
  {
   "cell_type": "code",
   "execution_count": 23,
   "id": "ccfb37c7",
   "metadata": {},
   "outputs": [
    {
     "name": "stdout",
     "output_type": "stream",
     "text": [
      "El promedio ponderado es: 14.9\n"
     ]
    }
   ],
   "source": [
    "promPonderado = (5*1 + 12*2 + 20*3 + 15*4)/(1 + 2 + 3 + 4)\n",
    "print(f'El promedio ponderado es: {promPonderado}')"
   ]
  },
  {
   "cell_type": "markdown",
   "id": "5e074725",
   "metadata": {},
   "source": [
    "14 - Crea una variable llamada \"frase\" y asígnale una cadena de texto de tu elección. Luego, imprime la frase en pantalla."
   ]
  },
  {
   "cell_type": "code",
   "execution_count": 24,
   "id": "d105d62d",
   "metadata": {},
   "outputs": [
    {
     "name": "stdout",
     "output_type": "stream",
     "text": [
      "Yo amo desarrollar software y analizar datos\n"
     ]
    }
   ],
   "source": [
    "frase = \"Yo amo desarrollar software y analizar datos\"\n",
    "print(frase)"
   ]
  },
  {
   "cell_type": "markdown",
   "id": "e3199a8a",
   "metadata": {},
   "source": [
    "15 - Crea un código que solicite una frase y luego imprima la frase en pantalla."
   ]
  },
  {
   "cell_type": "code",
   "execution_count": 25,
   "id": "b45276e9",
   "metadata": {},
   "outputs": [
    {
     "name": "stdout",
     "output_type": "stream",
     "text": [
      "La frase es: Logica de programación\n"
     ]
    }
   ],
   "source": [
    "frase = input('Escribe una frase')\n",
    "print(f'La frase es: {frase}')"
   ]
  },
  {
   "cell_type": "markdown",
   "id": "de730968",
   "metadata": {},
   "source": [
    "16 - Crea un código que solicite una frase al usuario y luego imprima la misma frase ingresada pero en mayúsculas."
   ]
  },
  {
   "cell_type": "code",
   "execution_count": 28,
   "id": "355e939a",
   "metadata": {},
   "outputs": [
    {
     "name": "stdout",
     "output_type": "stream",
     "text": [
      "La frase es: LOGICA PROGRAMANDO\n"
     ]
    }
   ],
   "source": [
    "frase = input('Escribe una frase')\n",
    "print(f'La frase es: {frase.upper()}')"
   ]
  },
  {
   "cell_type": "markdown",
   "id": "b5b939d9",
   "metadata": {},
   "source": [
    "17 - Crea un código que solicite una frase al usuario y luego imprima la misma frase ingresada pero en minúsculas."
   ]
  },
  {
   "cell_type": "code",
   "execution_count": 29,
   "id": "658c172f",
   "metadata": {},
   "outputs": [
    {
     "name": "stdout",
     "output_type": "stream",
     "text": [
      "La frase es: hola python\n"
     ]
    }
   ],
   "source": [
    "frase = input('Escribe una frase')\n",
    "print(f'La frase es: {frase.lower()}')"
   ]
  },
  {
   "cell_type": "markdown",
   "id": "32d641ce",
   "metadata": {},
   "source": [
    "18 - Crea una variable llamada \"frase\" y asígnale una cadena de texto de tu elección. Luego, imprime la frase sin espacios en blanco al principio y al final."
   ]
  },
  {
   "cell_type": "code",
   "execution_count": 32,
   "id": "0a92ed58",
   "metadata": {},
   "outputs": [
    {
     "name": "stdout",
     "output_type": "stream",
     "text": [
      "La frase es:    Jueves   \n",
      "La frase es: Jueves\n"
     ]
    }
   ],
   "source": [
    "frase = input('Escribe una frase')\n",
    "print(f'La frase es: {frase}')\n",
    "print(f'La frase es: {frase.strip()}')"
   ]
  },
  {
   "cell_type": "markdown",
   "id": "62c682ac",
   "metadata": {},
   "source": [
    "19 - Crea un código que solicite una frase al usuario y luego imprima la misma frase sin espacios en blanco al principio y al final."
   ]
  },
  {
   "cell_type": "code",
   "execution_count": 33,
   "id": "7fc08849",
   "metadata": {},
   "outputs": [
    {
     "name": "stdout",
     "output_type": "stream",
     "text": [
      "La frase es:     soy una frase con espacios     \n",
      "La frase es: soy una frase con espacios\n"
     ]
    }
   ],
   "source": [
    "frase = input('Escribe una frase')\n",
    "print(f'La frase es: {frase}')\n",
    "print(f'La frase es: {frase.strip()}')"
   ]
  },
  {
   "cell_type": "markdown",
   "id": "1d71723e",
   "metadata": {},
   "source": [
    "20 - Crea un código que solicite una frase al usuario y luego imprima la misma frase sin espacios en blanco al principio y al final, además de convertirla a minúsculas."
   ]
  },
  {
   "cell_type": "code",
   "execution_count": 34,
   "id": "fd3133ed",
   "metadata": {},
   "outputs": [
    {
     "name": "stdout",
     "output_type": "stream",
     "text": [
      "La frase es:      los espacios y las mayusculas        \n",
      "La frase es: LOS ESPACIOS Y LAS MAYUSCULAS\n"
     ]
    }
   ],
   "source": [
    "frase = input('Escribe una frase')\n",
    "print(f'La frase es: {frase}')\n",
    "print(f'La frase es: {frase.strip().upper()}')"
   ]
  },
  {
   "cell_type": "markdown",
   "id": "1536a96f",
   "metadata": {},
   "source": [
    "21 - Crea un código que solicite una frase al usuario y luego imprima la misma frase con todas las vocales \"e\" reemplazadas por la letra \"f\"."
   ]
  },
  {
   "cell_type": "code",
   "execution_count": 35,
   "id": "ee720a25",
   "metadata": {},
   "outputs": [
    {
     "name": "stdout",
     "output_type": "stream",
     "text": [
      "La frase es: un ave estaba enamorada de otra ave, leelo si puedes\n",
      "La frase es: un avf fstaba fnamorada df otra avf, lfflo si pufdfs\n"
     ]
    }
   ],
   "source": [
    "frase = input('Escribe una frase')\n",
    "print(f'La frase es: {frase}')\n",
    "print(f'La frase es: {frase.replace(\"e\",\"f\")}')"
   ]
  },
  {
   "cell_type": "markdown",
   "id": "cdb30e92",
   "metadata": {},
   "source": [
    "22 - Crea un código que solicite una frase al usuario y luego imprima la misma frase con todas las vocales \"a\" reemplazadas por el carácter \"@\"."
   ]
  },
  {
   "cell_type": "code",
   "execution_count": 36,
   "id": "6dd2cf29",
   "metadata": {},
   "outputs": [
    {
     "name": "stdout",
     "output_type": "stream",
     "text": [
      "La frase es: un ave estaba enamorada de otra ave, leelo si puede\n",
      "La frase es: un @ve est@b@ en@mor@d@ de otr@ @ve, leelo si puede\n"
     ]
    }
   ],
   "source": [
    "frase = input('Escribe una frase')\n",
    "print(f'La frase es: {frase}')\n",
    "print(f'La frase es: {frase.replace(\"a\",\"@\")}')"
   ]
  },
  {
   "cell_type": "markdown",
   "id": "94c94ee0",
   "metadata": {},
   "source": [
    "23 - Crea un código que solicite una frase al usuario y luego imprima la misma frase con todas las consonantes \"s\" reemplazadas por el carácter \"$\"."
   ]
  },
  {
   "cell_type": "code",
   "execution_count": 37,
   "id": "d731c363",
   "metadata": {},
   "outputs": [
    {
     "name": "stdout",
     "output_type": "stream",
     "text": [
      "La frase es: Sofía susurra secretos suaves sobre silbidos serenos.\n",
      "La frase es: Sofía $u$urra $ecreto$ $uave$ $obre $ilbido$ $ereno$.\n"
     ]
    }
   ],
   "source": [
    "frase = input('Escribe una frase')\n",
    "print(f'La frase es: {frase}')\n",
    "print(f'La frase es: {frase.replace(\"s\",\"$\")}')"
   ]
  }
 ],
 "metadata": {
  "kernelspec": {
   "display_name": "Python 3",
   "language": "python",
   "name": "python3"
  },
  "language_info": {
   "codemirror_mode": {
    "name": "ipython",
    "version": 3
   },
   "file_extension": ".py",
   "mimetype": "text/x-python",
   "name": "python",
   "nbconvert_exporter": "python",
   "pygments_lexer": "ipython3",
   "version": "3.13.3"
  }
 },
 "nbformat": 4,
 "nbformat_minor": 5
}
