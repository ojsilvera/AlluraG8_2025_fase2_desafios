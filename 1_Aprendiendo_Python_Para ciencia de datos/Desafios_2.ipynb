{
 "cells": [
  {
   "cell_type": "markdown",
   "id": "67234e7e",
   "metadata": {},
   "source": [
    "Taller 2 - aprendiendo python"
   ]
  },
  {
   "cell_type": "markdown",
   "id": "ab6e0a0c",
   "metadata": {},
   "source": [
    "1 - Crea un programa que solicite al usuario que escriba su nombre y luego imprima \"Hola, [nombre].\""
   ]
  },
  {
   "cell_type": "code",
   "execution_count": 1,
   "id": "cc50a8a8",
   "metadata": {},
   "outputs": [
    {
     "name": "stdout",
     "output_type": "stream",
     "text": [
      "Hola Oscar\n"
     ]
    }
   ],
   "source": [
    "nombre = input('¿Cuál es tu nombre?')\n",
    "print('Hola', nombre)"
   ]
  },
  {
   "cell_type": "markdown",
   "id": "28b07ee7",
   "metadata": {},
   "source": [
    "2 - Crea un programa que solicite al usuario que escriba su nombre y edad, y luego imprima \"Hola, [nombre], tienes [edad] años.\""
   ]
  },
  {
   "cell_type": "code",
   "execution_count": 3,
   "id": "5390483b",
   "metadata": {},
   "outputs": [
    {
     "name": "stdout",
     "output_type": "stream",
     "text": [
      "Tu nombre esOscar y tu edad es 42\n"
     ]
    }
   ],
   "source": [
    "nombre = input('¿Cuál es tu nombre?')\n",
    "edad = input('Cual es tu edad?')\n",
    "print(f\"Tu nombre es{nombre} y tu edad es {edad}\")"
   ]
  },
  {
   "cell_type": "markdown",
   "id": "32b5917c",
   "metadata": {},
   "source": [
    "3 - Crea un programa que solicite al usuario que escriba su nombre, edad y altura en metros, y luego imprima \"Hola, [nombre], tienes [edad] años y mides [altura] metros.\""
   ]
  },
  {
   "cell_type": "markdown",
   "id": "b0c1cfc3",
   "metadata": {},
   "source": [
    "4 - Crea un programa que solicite dos valores numéricos al usuario y luego imprima la suma de ambos valores."
   ]
  },
  {
   "cell_type": "markdown",
   "id": "4be8d9c5",
   "metadata": {},
   "source": [
    "5 - Crea un programa que solicite tres valores numéricos al usuario y luego imprima la suma de los tres valores."
   ]
  },
  {
   "cell_type": "markdown",
   "id": "3c6e3598",
   "metadata": {},
   "source": [
    "6 - Crea un programa que solicite dos valores numéricos al usuario y luego imprima la resta del primero menos el segundo valor."
   ]
  },
  {
   "cell_type": "markdown",
   "id": "29fa7331",
   "metadata": {},
   "source": [
    "7 - Crea un programa que solicite dos valores numéricos al usuario y luego imprima la multiplicación de los dos valores."
   ]
  },
  {
   "cell_type": "markdown",
   "id": "4da126c3",
   "metadata": {},
   "source": [
    "8 - Crea un programa que solicite dos valores numéricos, un numerador y un denominador, y realice la división entre los dos valores. Asegúrate de que el valor del denominador no sea igual a 0."
   ]
  },
  {
   "cell_type": "markdown",
   "id": "6eef39db",
   "metadata": {},
   "source": [
    "9 - Crea un programa que solicite dos valores numéricos, un operador y una potencia, y realice la exponenciación entre estos dos valores."
   ]
  },
  {
   "cell_type": "markdown",
   "id": "719be9c6",
   "metadata": {},
   "source": [
    "10 - Crea un programa que solicite dos valores numéricos, un numerador y un denominador, y realice la división entera entre los dos valores. Asegúrate de que el valor del denominador no sea igual a 0."
   ]
  },
  {
   "cell_type": "markdown",
   "id": "b4c5250a",
   "metadata": {},
   "source": [
    "11 - Crea un programa que solicite dos valores numéricos, un numerador y un denominador, y devuelva el resto de la división entre los dos valores. Asegúrate de que el valor del denominador no sea igual a 0."
   ]
  },
  {
   "cell_type": "markdown",
   "id": "086958b2",
   "metadata": {},
   "source": [
    "12 - Crea un código que solicite las 3 notas de un estudiante e imprima el promedio de las notas."
   ]
  },
  {
   "cell_type": "markdown",
   "id": "996f7304",
   "metadata": {},
   "source": [
    "13 - Crea un código que calcule e imprima el promedio ponderado de los números 5, 12, 20 y 15 con pesos respectivamente iguales a 1, 2, 3 y 4."
   ]
  },
  {
   "cell_type": "markdown",
   "id": "5e074725",
   "metadata": {},
   "source": [
    "14 - Crea una variable llamada \"frase\" y asígnale una cadena de texto de tu elección. Luego, imprime la frase en pantalla."
   ]
  },
  {
   "cell_type": "markdown",
   "id": "e3199a8a",
   "metadata": {},
   "source": [
    "15 - Crea un código que solicite una frase y luego imprima la frase en pantalla."
   ]
  },
  {
   "cell_type": "markdown",
   "id": "de730968",
   "metadata": {},
   "source": [
    "16 - Crea un código que solicite una frase al usuario y luego imprima la misma frase ingresada pero en mayúsculas."
   ]
  },
  {
   "cell_type": "markdown",
   "id": "b5b939d9",
   "metadata": {},
   "source": [
    "17 - Crea un código que solicite una frase al usuario y luego imprima la misma frase ingresada pero en minúsculas."
   ]
  },
  {
   "cell_type": "markdown",
   "id": "32d641ce",
   "metadata": {},
   "source": [
    "18 - Crea una variable llamada \"frase\" y asígnale una cadena de texto de tu elección. Luego, imprime la frase sin espacios en blanco al principio y al final."
   ]
  },
  {
   "cell_type": "markdown",
   "id": "62c682ac",
   "metadata": {},
   "source": [
    "19 - Crea un código que solicite una frase al usuario y luego imprima la misma frase sin espacios en blanco al principio y al final."
   ]
  },
  {
   "cell_type": "markdown",
   "id": "1d71723e",
   "metadata": {},
   "source": [
    "20 - Crea un código que solicite una frase al usuario y luego imprima la misma frase sin espacios en blanco al principio y al final, además de convertirla a minúsculas."
   ]
  },
  {
   "cell_type": "markdown",
   "id": "1536a96f",
   "metadata": {},
   "source": [
    "21 - Crea un código que solicite una frase al usuario y luego imprima la misma frase con todas las vocales \"e\" reemplazadas por la letra \"f\"."
   ]
  },
  {
   "cell_type": "markdown",
   "id": "cdb30e92",
   "metadata": {},
   "source": [
    "22 - Crea un código que solicite una frase al usuario y luego imprima la misma frase con todas las vocales \"a\" reemplazadas por el carácter \"@\"."
   ]
  },
  {
   "cell_type": "markdown",
   "id": "94c94ee0",
   "metadata": {},
   "source": [
    "23 - Crea un código que solicite una frase al usuario y luego imprima la misma frase con todas las consonantes \"s\" reemplazadas por el carácter \"$\"."
   ]
  }
 ],
 "metadata": {
  "kernelspec": {
   "display_name": "Python 3",
   "language": "python",
   "name": "python3"
  },
  "language_info": {
   "codemirror_mode": {
    "name": "ipython",
    "version": 3
   },
   "file_extension": ".py",
   "mimetype": "text/x-python",
   "name": "python",
   "nbconvert_exporter": "python",
   "pygments_lexer": "ipython3",
   "version": "3.13.3"
  }
 },
 "nbformat": 4,
 "nbformat_minor": 5
}
