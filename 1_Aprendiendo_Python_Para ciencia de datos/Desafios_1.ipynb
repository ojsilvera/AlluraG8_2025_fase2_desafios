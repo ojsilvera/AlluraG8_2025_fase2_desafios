{
 "cells": [
  {
   "cell_type": "markdown",
   "id": "e51c4538",
   "metadata": {},
   "source": [
    "Cueaderno con los desafios del primer video del curo aprendiendo python para ciencia de datos"
   ]
  },
  {
   "cell_type": "markdown",
   "id": "ee354f44",
   "metadata": {},
   "source": [
    "1 - Imprime la frase \"Escuela de Datos de Alura\"."
   ]
  },
  {
   "cell_type": "markdown",
   "id": "41c8ca18",
   "metadata": {},
   "source": [
    "2 - Imprime tu nombre y tu apellido siguiendo la estructura a continuación:\n",
    "\n",
    "    Nombre: [tu nombre]\n",
    "    Apellido: [tu apellido]"
   ]
  },
  {
   "cell_type": "markdown",
   "id": "97c6d413",
   "metadata": {},
   "source": [
    "3 - Imprime tu primer nombre letra por letra, no se requieren la viñetas. Por ejemplo, si mi nombre es Álvaro, la salida sería:\n",
    "\n",
    " - Á\n",
    " - L\n",
    " - V\n",
    " - A\n",
    " - R\n",
    " - O"
   ]
  },
  {
   "cell_type": "markdown",
   "id": "dbb292e3",
   "metadata": {},
   "source": [
    "4 - Imprime tu fecha de nacimiento en formato día mes año. Recuerda que los valores de día y año no deben estar entre comillas. Suponiendo una fecha de cumpleaños el 28 de febrero de 2003, el formato debe ser como el siguiente: 28 febrero 2003"
   ]
  },
  {
   "cell_type": "markdown",
   "id": "92052e37",
   "metadata": {},
   "source": [
    "5 - Imprime, en una sola instrucción print, el año actual en el que estás realizando este curso. El valor del año debe ser un dato numérico, y la salida de print debe ser la siguiente: Año actual: [año]"
   ]
  }
 ],
 "metadata": {
  "language_info": {
   "name": "python"
  }
 },
 "nbformat": 4,
 "nbformat_minor": 5
}
