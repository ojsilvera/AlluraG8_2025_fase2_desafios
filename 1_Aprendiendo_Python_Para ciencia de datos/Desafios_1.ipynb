{
 "cells": [
  {
   "cell_type": "markdown",
   "id": "e51c4538",
   "metadata": {},
   "source": [
    "Cueaderno con los desafios del primer video del curo aprendiendo python para ciencia de datos"
   ]
  },
  {
   "cell_type": "markdown",
   "id": "ee354f44",
   "metadata": {},
   "source": [
    "1 - Imprime la frase \"Escuela de Datos de Alura\"."
   ]
  },
  {
   "cell_type": "code",
   "execution_count": 1,
   "id": "08402f35",
   "metadata": {},
   "outputs": [
    {
     "name": "stdout",
     "output_type": "stream",
     "text": [
      "Escuela de datos alura\n"
     ]
    }
   ],
   "source": [
    "print('Escuela de datos alura')"
   ]
  },
  {
   "cell_type": "markdown",
   "id": "41c8ca18",
   "metadata": {},
   "source": [
    "2 - Imprime tu nombre y tu apellido siguiendo la estructura a continuación:\n",
    "\n",
    "    Nombre: [tu nombre]\n",
    "    Apellido: [tu apellido]"
   ]
  },
  {
   "cell_type": "code",
   "execution_count": null,
   "id": "b7369bae",
   "metadata": {},
   "outputs": [
    {
     "name": "stdout",
     "output_type": "stream",
     "text": [
      "Nombre: Oscar\n",
      "Apellido: Silvera\n"
     ]
    }
   ],
   "source": [
    "nombre = 'Oscar'\n",
    "apellido = 'Silvera'\n",
    "print('Nombre:', nombre)\n",
    "print('Apellido:', apellido)"
   ]
  },
  {
   "cell_type": "markdown",
   "id": "97c6d413",
   "metadata": {},
   "source": [
    "3 - Imprime tu primer nombre letra por letra, no se requieren la viñetas. Por ejemplo, si mi nombre es Álvaro, la salida sería:\n",
    "\n",
    " - Á\n",
    " - L\n",
    " - V\n",
    " - A\n",
    " - R\n",
    " - O"
   ]
  },
  {
   "cell_type": "code",
   "execution_count": 7,
   "id": "397c7b53",
   "metadata": {},
   "outputs": [
    {
     "name": "stdout",
     "output_type": "stream",
     "text": [
      "O\n",
      "s\n",
      "c\n",
      "a\n",
      "r\n"
     ]
    }
   ],
   "source": [
    "print('O')\n",
    "print('s')\n",
    "print('c')\n",
    "print('a')\n",
    "print('r')"
   ]
  },
  {
   "cell_type": "markdown",
   "id": "dbb292e3",
   "metadata": {},
   "source": [
    "4 - Imprime tu fecha de nacimiento en formato día mes año. Recuerda que los valores de día y año no deben estar entre comillas. Suponiendo una fecha de cumpleaños el 28 de febrero de 2003, el formato debe ser como el siguiente: 28 febrero 2003"
   ]
  },
  {
   "cell_type": "code",
   "execution_count": 4,
   "id": "8e317068",
   "metadata": {},
   "outputs": [
    {
     "name": "stdout",
     "output_type": "stream",
     "text": [
      "Fecha de nacimiento: 4 Julio 1982\n"
     ]
    }
   ],
   "source": [
    "dia = 4\n",
    "mes = \"Julio\"\n",
    "año = 1982\n",
    "\n",
    "print('Fecha de nacimiento:', dia, mes, año)"
   ]
  },
  {
   "cell_type": "markdown",
   "id": "92052e37",
   "metadata": {},
   "source": [
    "5 - Imprime, en una sola instrucción print, el año actual en el que estás realizando este curso. El valor del año debe ser un dato numérico, y la salida de print debe ser la siguiente: Año actual: [año]"
   ]
  },
  {
   "cell_type": "code",
   "execution_count": 6,
   "id": "538eb871",
   "metadata": {},
   "outputs": [
    {
     "name": "stdout",
     "output_type": "stream",
     "text": [
      "Curso realizado en: 2025\n"
     ]
    }
   ],
   "source": [
    "añoActual = 2025\n",
    "print('Curso realizado en:', añoActual)"
   ]
  }
 ],
 "metadata": {
  "kernelspec": {
   "display_name": "Python 3",
   "language": "python",
   "name": "python3"
  },
  "language_info": {
   "codemirror_mode": {
    "name": "ipython",
    "version": 3
   },
   "file_extension": ".py",
   "mimetype": "text/x-python",
   "name": "python",
   "nbconvert_exporter": "python",
   "pygments_lexer": "ipython3",
   "version": "3.13.3"
  }
 },
 "nbformat": 4,
 "nbformat_minor": 5
}
