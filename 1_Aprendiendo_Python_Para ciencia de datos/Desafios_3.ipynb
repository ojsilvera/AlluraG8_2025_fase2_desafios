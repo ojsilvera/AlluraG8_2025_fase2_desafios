{
 "cells": [
  {
   "cell_type": "markdown",
   "id": "cf2ffa75",
   "metadata": {},
   "source": [
    "Taller 3 - Aprendiendo python, estructuras condicionales"
   ]
  }
 ],
 "metadata": {
  "language_info": {
   "name": "python"
  }
 },
 "nbformat": 4,
 "nbformat_minor": 5
}
