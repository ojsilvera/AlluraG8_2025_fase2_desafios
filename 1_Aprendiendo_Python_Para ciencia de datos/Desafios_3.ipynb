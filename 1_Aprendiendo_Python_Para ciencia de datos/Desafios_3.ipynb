{
 "cells": [
  {
   "cell_type": "markdown",
   "id": "cf2ffa75",
   "metadata": {},
   "source": [
    "Taller 3 - Aprendiendo python, estructuras condicionales"
   ]
  },
  {
   "cell_type": "markdown",
   "id": "afa660d2",
   "metadata": {},
   "source": [
    "1 - Escribe un programa que pida a la persona usuaria que proporcione dos números y muestre el número más grande."
   ]
  },
  {
   "cell_type": "code",
   "execution_count": null,
   "id": "4888dcb4",
   "metadata": {},
   "outputs": [],
   "source": [
    "print('Digita dos numeros')\n",
    "numero1 = int(input('Digite o primeiro numero: '))\n",
    "numero2 = int(input('Digite o segundo numero: '))\n",
    "if numero1 > numero2:\n",
    "    print(f'el numero 1 {numero1} es el mayor')\n",
    "elif numero1 < numero2:\n",
    "    print(f'el numero 2 {numero2} es el mayor')\n",
    "else:\n",
    "    print(f'Los numeros son iguales nuemro 1: {numero1} y numero 2: {numero2}')"
   ]
  },
  {
   "cell_type": "markdown",
   "id": "5b86afdd",
   "metadata": {},
   "source": [
    "2 - Escribe un programa que solicite el porcentaje de crecimiento de producción de una empresa e informe si hubo un crecimiento (porcentaje positivo) o una disminución (porcentaje negativo)."
   ]
  },
  {
   "cell_type": "markdown",
   "id": "348bca22",
   "metadata": {},
   "source": [
    "Formula basica de crecimiento de una empresa\n",
    "La fórmula básica para calcular el porcentaje de crecimiento de una empresa es:\n",
    "\n",
    "fc = (Valor Final - Valor Inicial) / Valor Inicial * 100%.\n",
    "\n",
    "En otras palabras, se resta el valor inicial del valor final, el resultado se divide por el valor inicial y finalmente se multiplica por 100 para obtener el porcentaje"
   ]
  },
  {
   "cell_type": "code",
   "execution_count": null,
   "id": "23f2f74e",
   "metadata": {},
   "outputs": [],
   "source": [
    "vInicial = int(input('Digite el valor inicial: '))\n",
    "vFinal = int(input('Digite el valor final: '))\n",
    "fc = ((vInicial-vFinal) / vInicial)*100\n",
    "print(f'El porcentaje de crecimiento es: {fc}%')"
   ]
  },
  {
   "cell_type": "markdown",
   "id": "7b6b6923",
   "metadata": {},
   "source": [
    "3 - Escribe un programa que determine si una letra proporcionada por la persona usuaria es una vocal o una consonante."
   ]
  },
  {
   "cell_type": "code",
   "execution_count": null,
   "id": "948b3f26",
   "metadata": {},
   "outputs": [],
   "source": [
    "letra = input('Digite una letra: ').strip()\n",
    "if letra in 'aeiou' or letra in 'AEIOU':\n",
    "    print(f'La letra {letra} es una vocal')\n",
    "elif letra in 'bcdfghjklmnpqrstvwxyz' or letra in 'BCDFGHJKLMNPQRSTVWXYZ':\n",
    "    print(f'La letra {letra} es una consonante')"
   ]
  },
  {
   "cell_type": "markdown",
   "id": "c6016565",
   "metadata": {},
   "source": [
    "4 - Escribe un programa que lea valores promedio de precios de un modelo de automóvil durante 3 años consecutivos y muestre el valor más alto y más bajo entre esos tres años."
   ]
  },
  {
   "cell_type": "code",
   "execution_count": null,
   "id": "d4887373",
   "metadata": {},
   "outputs": [],
   "source": [
    "vl_2023 = 100\n",
    "vl_2024 = 80\n",
    "vl_2025 = 350\n",
    "valorMaximo = max(vl_2023, vl_2024, vl_2025)\n",
    "valorMinimo = min(vl_2023, vl_2024, vl_2025)\n",
    "print(f'El valor maximo es: {valorMaximo}')\n",
    "print(f'El valor minimo es: {valorMinimo}')"
   ]
  },
  {
   "cell_type": "markdown",
   "id": "c77e13f3",
   "metadata": {},
   "source": [
    "5 - Escribe un programa que pregunte sobre el precio de tres productos e indique cuál es el producto más barato para comprar."
   ]
  },
  {
   "cell_type": "code",
   "execution_count": null,
   "id": "52bc89cc",
   "metadata": {},
   "outputs": [],
   "source": [
    "vl_Prod1 = int(input('Digite el valor del producto 1: '))\n",
    "vl_Prod2 = int(input('Digite el valor del producto 2: '))\n",
    "vl_Prod3 = int(input('Digite el valor del producto 3: '))\n",
    "prodEconomico = min(vl_Prod1, vl_Prod2, vl_Prod3)\n",
    "print(f'El producto mas economico es: {prodEconomico}')"
   ]
  },
  {
   "cell_type": "markdown",
   "id": "2681eae8",
   "metadata": {},
   "source": [
    "6 - Escribe un programa que lea tres números y los muestre en orden descendente."
   ]
  },
  {
   "cell_type": "markdown",
   "id": "11dc3bb2",
   "metadata": {},
   "source": [
    "Para ordenar números en Python en orden descendente, puedes usar la función sorted() y el parámetro reverse=True. Alternativamente, también puedes usar el método sort() en una lista, pero este método modifica la lista original.\n",
    "\n",
    "numerosOrdenados = sorted(numeros, reverse = true)"
   ]
  },
  {
   "cell_type": "code",
   "execution_count": null,
   "id": "4a813076",
   "metadata": {},
   "outputs": [],
   "source": [
    "numero1 = 5\n",
    "numero2 = 200\n",
    "numero3 = 500\n",
    "orden = sorted([numero1, numero2, numero3], reverse=True)\n",
    "print(f'Los numeros ordenados de mayor a menor son: {orden}')"
   ]
  },
  {
   "cell_type": "markdown",
   "id": "31601a44",
   "metadata": {},
   "source": [
    "Aqui desarrollo el ejercicio con condicionales"
   ]
  },
  {
   "cell_type": "code",
   "execution_count": null,
   "id": "208afd5a",
   "metadata": {},
   "outputs": [],
   "source": [
    "n1 = 10\n",
    "n2 = 500\n",
    "n3 = 20\n",
    "\n",
    "if n1 > n2 and n1 > n3 and n2 > n3:\n",
    "\n",
    "\tpMayor = n1\n",
    "\tpIntermedia = n2\n",
    "\tpBaja = n3\n",
    "elif n1 > n2 and n1 > n3 and n3 > n2:\n",
    "\tpMayor = n1\n",
    "\tpIntermedia = n3\n",
    "\tpBaja = n2\n",
    "elif n2 > n1 and n2 > n3 and n1 > n3:\n",
    "\tpMayor = n2\n",
    "\tpIntermedia = n1\n",
    "\tpBaja = n3\n",
    "elif n2 > n1 and n2 > n3 and n3 > n1:\n",
    "\tpMayor = n2\n",
    "\tpIntermedia = n3\n",
    "\tpBaja = n1\n",
    "elif n3 > n2 and n3 > n1 and n2 > n1:\n",
    "\tpMayor = n3\n",
    "\tpIntermedia = n2\n",
    "\tpBaja = n1\n",
    "elif n3 > n2 and n3 > n1 and n1 > n2:\n",
    "\tpMayor = n3\n",
    "\tpIntermedia = n1\n",
    "\tpBaja = n2\n",
    "print(f'{pMayor}, {pIntermedia}, {pBaja}')"
   ]
  },
  {
   "cell_type": "markdown",
   "id": "1ca38250",
   "metadata": {},
   "source": [
    "7 -Escribe un programa que pregunte en qué turno estudia la persona usuaria (\"mañana\", \"tarde\" o \"noche\") y muestre el mensaje \"¡Buenos Días!\", \"¡Buenas Tardes!\", \"¡Buenas Noches!\" o \"Valor Inválido!\", según el caso."
   ]
  },
  {
   "cell_type": "code",
   "execution_count": null,
   "id": "32cb020b",
   "metadata": {},
   "outputs": [],
   "source": [
    "jornada = int(input('Digite el codigo de la jornada jornada 1-Mañana, 2-Tarde, 3Noche: '))\n",
    "if jornada == 1:\n",
    "    print('La jornada es de mañana: !Buenos Dias¡')\n",
    "elif jornada == 2:\n",
    "    print('La jornada es de tarde: !Buenas Tardes¡')\n",
    "elif jornada == 3:\n",
    "    print('La jornada es de noche: !Buenas Noches¡')\n",
    "else:\n",
    "    print('La jornada no es valida: !Error¡')"
   ]
  },
  {
   "cell_type": "markdown",
   "id": "2ec66e9c",
   "metadata": {},
   "source": [
    "8 - Escribe un programa que solicite un número entero a la persona usuaria y determine si es par o impar. Pista: Puedes usar el operador módulo (%)."
   ]
  },
  {
   "cell_type": "code",
   "execution_count": null,
   "id": "eb25bbd6",
   "metadata": {},
   "outputs": [],
   "source": [
    "numero = int(input('Digite un numero: '))\n",
    "if numero % 2 == 0:\n",
    "    print(f'El numero {numero} es par')\n",
    "else:\n",
    "    print(f'El numero {numero} es impar')"
   ]
  },
  {
   "cell_type": "markdown",
   "id": "a8705e39",
   "metadata": {},
   "source": [
    "9 - Escribe un programa que pida un número a la persona usuaria y le informe si es entero o decimal."
   ]
  },
  {
   "cell_type": "code",
   "execution_count": null,
   "id": "493fb975",
   "metadata": {},
   "outputs": [
    {
     "name": "stdout",
     "output_type": "stream",
     "text": [
      "El numero 5.1 no es entero\n"
     ]
    }
   ],
   "source": [
    "numero = input('Digite un numero: ')\n",
    "if numero.isdigit():\n",
    "    print(f'El numero {numero} es entero')\n",
    "else:\n",
    "    print(f'El numero {numero} es decimal')\n"
   ]
  },
  {
   "cell_type": "markdown",
   "id": "ef4a2cba",
   "metadata": {},
   "source": [
    "10 - Un programa debe ser escrito para leer dos números y luego preguntar a la persona usuaria qué operación desea realizar. El resultado de la operación debe incluir información sobre el número, si es par o impar, positivo o negativo, e entero o decimal."
   ]
  },
  {
   "cell_type": "markdown",
   "id": "773e2d9c",
   "metadata": {},
   "source": [
    "11 - Escribe un programa que pida a la persona usuaria tres números que representan los lados de un triángulo. El programa debe informar si los valores pueden utilizarse para formar un triángulo y, en caso afirmativo, si es equilátero, isósceles o escaleno. Ten en cuenta algunas sugerencias:\n",
    "\n",
    "- Tres lados forman un triángulo cuando la suma de cualesquiera dos lados es mayor que el tercero;\n",
    "- Triángulo Equilátero: tres lados iguales;\n",
    "- Triángulo Isósceles: dos lados iguales;\n",
    "- Triángulo Escaleno: tres lados diferentes."
   ]
  },
  {
   "cell_type": "markdown",
   "id": "9850495b",
   "metadata": {},
   "source": [
    "12 - Un establecimiento está vendiendo combustibles con descuentos variables. Para el etanol, si la cantidad comprada es de hasta 15 litros, el descuento será del 2% por litro. En caso contrario, será del 4% por litro. Para el diésel, si la cantidad comprada es de hasta 15 litros, el descuento será del 3% por litro. En caso contrario, será del 5% por litro. El precio por litro de diésel es de R$ 2,00 y el precio por litro de etanol es de R$ 1,70. Escribe un programa que lea la cantidad de litros vendidos y el tipo de combustible (E para etanol y D para diésel) y calcule el valor a pagar por el cliente. Ten en cuenta algunas sugerencias:\n",
    "\n",
    "- El valor del descuento será el producto del precio por litro, la cantidad de litros y el valor del descuento.\n",
    "- El valor a pagar por un cliente será el resultado de la multiplicación del precio por litro por la cantidad de litros menos el valor del descuento resultante del cálculo."
   ]
  },
  {
   "cell_type": "markdown",
   "id": "41769be7",
   "metadata": {},
   "source": [
    "13 - En una empresa de venta de bienes raíces, debes crear un código que analice los datos de ventas anuales para ayudar a la dirección en la toma de decisiones. El código debe recopilar los datos de cantidad de ventas durante los años 2022 y 2023 y calcular la variación porcentual. A partir del valor de la variación, se deben proporcionar las siguientes sugerencias:\n",
    "\n",
    "- Para una variación superior al 20%: bonificación para el equipo de ventas.\n",
    "- Para una variación entre el 2% y el 20%: pequeña bonificación para el equipo de ventas.\n",
    "- Para una variación entre el 2% y el -10%: planificación de políticas de incentivo a las ventas.\n",
    "- Para bonificaciones inferiores al -10%: recorte de gastos."
   ]
  }
 ],
 "metadata": {
  "kernelspec": {
   "display_name": "Python 3",
   "language": "python",
   "name": "python3"
  },
  "language_info": {
   "codemirror_mode": {
    "name": "ipython",
    "version": 3
   },
   "file_extension": ".py",
   "mimetype": "text/x-python",
   "name": "python",
   "nbconvert_exporter": "python",
   "pygments_lexer": "ipython3",
   "version": "3.13.3"
  }
 },
 "nbformat": 4,
 "nbformat_minor": 5
}
